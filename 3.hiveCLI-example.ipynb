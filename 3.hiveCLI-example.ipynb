{
 "cells": [
  {
   "cell_type": "markdown",
   "metadata": {},
   "source": [
    "# Introduction"
   ]
  },
  {
   "cell_type": "markdown",
   "metadata": {},
   "source": [
    "In this lecture we will use the MovieLens dataset containing 100k movie ratings.\n",
    "\n",
    "MovieLens site: https://grouplens.org/datasets/movielens/\n",
    "\n",
    "100k dataset: http://files.grouplens.org/datasets/movielens/ml-100k.zip\n"
   ]
  },
  {
   "cell_type": "markdown",
   "metadata": {},
   "source": [
    "## Setting up Hadoop and Hive envvars"
   ]
  },
  {
   "cell_type": "code",
   "execution_count": 1,
   "metadata": {},
   "outputs": [
    {
     "name": "stdout",
     "output_type": "stream",
     "text": [
      "env: HADOOP_VERSION=2.9.2\n",
      "env: HADOOP_HOME=hadoop-2.9.2\n"
     ]
    }
   ],
   "source": [
    "%env HADOOP_VERSION     2.9.2\n",
    "%env HADOOP_HOME hadoop-2.9.2"
   ]
  },
  {
   "cell_type": "code",
   "execution_count": 2,
   "metadata": {},
   "outputs": [
    {
     "name": "stdout",
     "output_type": "stream",
     "text": [
      "env: HIVE_VERSION=hive-2.3.5\n",
      "env: HIVE_HOME=apache-hive-2.3.5-bin\n"
     ]
    }
   ],
   "source": [
    "%env HIVE_VERSION     hive-2.3.5\n",
    "%env HIVE_HOME apache-hive-2.3.5-bin"
   ]
  },
  {
   "cell_type": "markdown",
   "metadata": {},
   "source": [
    "## Java Home envvar"
   ]
  },
  {
   "cell_type": "code",
   "execution_count": 3,
   "metadata": {},
   "outputs": [
    {
     "name": "stdout",
     "output_type": "stream",
     "text": [
      "env: JAVA_HOME=/usr/lib/jvm/java-8-openjdk-amd64\n"
     ]
    }
   ],
   "source": [
    "%env JAVA_HOME /usr/lib/jvm/java-8-openjdk-amd64\n",
    "# !echo \"export JAVA_HOME=/usr/lib/jvm/java-8-openjdk-amd64 \" >> ~/.bashrc\n",
    "# !echo \"export JAVA_HOME=/usr/lib/jvm/java-8-openjdk-amd64 \" >> ~/.profile"
   ]
  },
  {
   "cell_type": "markdown",
   "metadata": {},
   "source": [
    "## Setting the Hive path envvar"
   ]
  },
  {
   "cell_type": "code",
   "execution_count": 4,
   "metadata": {},
   "outputs": [],
   "source": [
    "!echo \"export HIVE_HOME=$(pwd)/$HIVE_HOME\" >> ~/.bashrc\n",
    "!echo \"export HIVE_HOME=$(pwd)/$HIVE_HOME\" >> ~/.profile"
   ]
  },
  {
   "cell_type": "code",
   "execution_count": 5,
   "metadata": {},
   "outputs": [],
   "source": [
    "!echo \"export JAVA_HOME=/usr/lib/jvm/java-8-openjdk-amd64\" >> $(pwd)/${HIVE_HOME}/bin/hive-env.sh\n",
    "!echo \"export HADOOP_HOME=$(pwd)/$HADOOP_HOME\"             >> $(pwd)/${HIVE_HOME}/bin/hive-env.sh\n",
    "!echo \"export HIVE_HOME=$(pwd)/$HIVE_HOME\"                 >> $(pwd)/${HIVE_HOME}/bin/hive-env.sh"
   ]
  },
  {
   "cell_type": "markdown",
   "metadata": {},
   "source": [
    "# Creating a database"
   ]
  },
  {
   "cell_type": "code",
   "execution_count": null,
   "metadata": {},
   "outputs": [
    {
     "name": "stdout",
     "output_type": "stream",
     "text": [
      "SLF4J: Class path contains multiple SLF4J bindings.\n",
      "SLF4J: Found binding in [jar:file:/home/jovyan/apache-hive-2.3.5-bin/lib/log4j-slf4j-impl-2.6.2.jar!/org/slf4j/impl/StaticLoggerBinder.class]\n",
      "SLF4J: Found binding in [jar:file:/home/jovyan/hadoop-2.9.2/share/hadoop/common/lib/slf4j-log4j12-1.7.25.jar!/org/slf4j/impl/StaticLoggerBinder.class]\n",
      "SLF4J: See http://www.slf4j.org/codes.html#multiple_bindings for an explanation.\n",
      "SLF4J: Actual binding is of type [org.apache.logging.slf4j.Log4jLoggerFactory]\n",
      "Connecting to jdbc:hive2://\n",
      "19/07/18 02:34:09 [main]: WARN session.SessionState: METASTORE_FILTER_HOOK will be ignored, since hive.security.authorization.manager is set to instance of HiveAuthorizerFactory.\n"
     ]
    }
   ],
   "source": [
    "#Verifying created databases\n",
    "!./$HIVE_HOME/bin/beeline -u \"jdbc:hive2://\" -e \"SHOW DATABASES;\"\n",
    "\n",
    "#Creating a database\n",
    "#!./$HIVE_HOME/bin/beeline -u \"jdbc:hive2://\" -e \"CREATE DATABASE IF NOT EXISTS movielens;\"\n",
    "\n",
    "#!./$HIVE_HOME/bin/beeline -u \"jdbc:hive2://\" -e \"SHOW DATABASES;\"\n"
   ]
  },
  {
   "cell_type": "markdown",
   "metadata": {},
   "source": [
    "## Creating a table ratings in the movielens database"
   ]
  },
  {
   "cell_type": "markdown",
   "metadata": {},
   "source": [
    "```bash\n",
    "USE movielens;\n",
    "\n",
    "# Verifying tables\n",
    "SHOW tables;\n",
    "\n",
    "#Creating table ratings\n",
    "CREATE TABLE ratings(\n",
    "        userID  INT,\n",
    "        movieID INT,\n",
    "        rating  INT,\n",
    "        time    INT)\n",
    "ROW FORMAT DELIMITED\n",
    "FIELDS TERMINATED BY '\\t'\n",
    "STORED AS TEXTFILE;\n",
    "\n",
    "SHOW tables;\n",
    "```"
   ]
  },
  {
   "cell_type": "markdown",
   "metadata": {},
   "source": [
    "## Import data from local file system"
   ]
  },
  {
   "cell_type": "markdown",
   "metadata": {},
   "source": [
    "```bash\n",
    "SELECT * FROM ratings;\n",
    "\n",
    "#Loading data\n",
    "LOAD DATA LOCAL INPATH 'resources/examples/u.data'\n",
    "OVERWRITE INTO TABLE ratings;\n",
    "\n",
    "SELECT * FROM ratings LIMIT 10;\n",
    "```"
   ]
  },
  {
   "cell_type": "markdown",
   "metadata": {},
   "source": [
    "## Verifying the file created by Hive"
   ]
  },
  {
   "cell_type": "code",
   "execution_count": null,
   "metadata": {},
   "outputs": [],
   "source": [
    "%env HADOOP_VERSION     2.9.2\n",
    "%env HADOOP_HOME hadoop-2.9.2\n",
    "\n",
    "!./$HADOOP_HOME/bin/hdfs dfs -ls /user/hive/warehouse/movielens.db/ratings/"
   ]
  },
  {
   "cell_type": "markdown",
   "metadata": {},
   "source": [
    "## Finding the most popular movie"
   ]
  },
  {
   "cell_type": "markdown",
   "metadata": {},
   "source": [
    "```bash\n",
    "SELECT movieID, COUNT(movieID) as ratingCount\n",
    "FROM ratings\n",
    "GROUP BY movieID\n",
    "ORDER BY ratingCount DESC\n",
    "LIMIT 10;\n",
    "```"
   ]
  },
  {
   "cell_type": "markdown",
   "metadata": {},
   "source": [
    "## Finding the name of the most popular movie"
   ]
  },
  {
   "cell_type": "markdown",
   "metadata": {},
   "source": [
    "### Creating a new table that contains movies' title"
   ]
  },
  {
   "cell_type": "markdown",
   "metadata": {},
   "source": [
    "```bash\n",
    "#Creating a new table called movieNames\n",
    "CREATE TABLE movieNames(\n",
    "        movieID  INT,\n",
    "        title STRING)\n",
    "ROW FORMAT DELIMITED\n",
    "FIELDS TERMINATED BY '|'\n",
    "STORED AS TEXTFILE;\n",
    "\n",
    "#Loading data into movieNames table\n",
    "LOAD DATA LOCAL INPATH 'resources/examples/u.item'\n",
    "OVERWRITE INTO TABLE movieNames;\n",
    "```"
   ]
  },
  {
   "cell_type": "markdown",
   "metadata": {},
   "source": [
    "### Creating a view to store the movies' popularity"
   ]
  },
  {
   "cell_type": "markdown",
   "metadata": {},
   "source": [
    "```bash\n",
    "CREATE VIEW topMoviesIds AS\n",
    "SELECT movieID, COUNT(movieID) as ratingCount\n",
    "FROM ratings\n",
    "GROUP BY movieID\n",
    "ORDER BY ratingCount DESC;\n",
    "```"
   ]
  },
  {
   "cell_type": "markdown",
   "metadata": {},
   "source": [
    "### Finding the name of the most popular movie"
   ]
  },
  {
   "cell_type": "markdown",
   "metadata": {},
   "source": [
    "```bash\n",
    "SELECT n.title, ratingCount\n",
    "FROM topMoviesIds t JOIN movieNames n ON t.movieID = n.movieID\n",
    "LIMIT 10;\n",
    "```"
   ]
  },
  {
   "cell_type": "code",
   "execution_count": null,
   "metadata": {},
   "outputs": [],
   "source": []
  },
  {
   "cell_type": "markdown",
   "metadata": {},
   "source": [
    "# It's your turn"
   ]
  },
  {
   "cell_type": "markdown",
   "metadata": {},
   "source": [
    "## Create new tables and import the u.data and u.item using the HDFS"
   ]
  },
  {
   "cell_type": "markdown",
   "metadata": {},
   "source": [
    "## Using your tables:"
   ]
  },
  {
   "cell_type": "markdown",
   "metadata": {},
   "source": [
    "### Find the movie with the highest average time"
   ]
  },
  {
   "cell_type": "markdown",
   "metadata": {},
   "source": [
    "What do you think about this result??"
   ]
  },
  {
   "cell_type": "markdown",
   "metadata": {},
   "source": [
    "### Find the movie with the highest average time, only considering movies with more than 10 ratings"
   ]
  },
  {
   "cell_type": "code",
   "execution_count": null,
   "metadata": {},
   "outputs": [],
   "source": []
  }
 ],
 "metadata": {
  "kernelspec": {
   "display_name": "Python 3",
   "language": "python",
   "name": "python3"
  },
  "language_info": {
   "codemirror_mode": {
    "name": "ipython",
    "version": 3
   },
   "file_extension": ".py",
   "mimetype": "text/x-python",
   "name": "python",
   "nbconvert_exporter": "python",
   "pygments_lexer": "ipython3",
   "version": "3.7.3"
  }
 },
 "nbformat": 4,
 "nbformat_minor": 2
}
