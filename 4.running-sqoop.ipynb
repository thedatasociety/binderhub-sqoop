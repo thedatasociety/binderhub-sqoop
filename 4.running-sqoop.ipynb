{
 "cells": [
  {
   "cell_type": "markdown",
   "metadata": {},
   "source": [
    "# Initial definitions"
   ]
  },
  {
   "cell_type": "markdown",
   "metadata": {},
   "source": [
    "## Setting up Hadoop envvars"
   ]
  },
  {
   "cell_type": "code",
   "execution_count": 1,
   "metadata": {},
   "outputs": [
    {
     "name": "stdout",
     "output_type": "stream",
     "text": [
      "env: HADOOP_VERSION=2.9.2\n",
      "env: HADOOP_HOME=hadoop-2.9.2\n"
     ]
    }
   ],
   "source": [
    "%env HADOOP_VERSION     2.9.2\n",
    "%env HADOOP_HOME hadoop-2.9.2"
   ]
  },
  {
   "cell_type": "markdown",
   "metadata": {},
   "source": [
    "## Setting up Sqoop envvars"
   ]
  },
  {
   "cell_type": "code",
   "execution_count": 2,
   "metadata": {},
   "outputs": [
    {
     "name": "stdout",
     "output_type": "stream",
     "text": [
      "env: SQOOP_VERSION=1.4.7\n",
      "env: SQOOP_HOME=sqoop-1.4.7.bin__hadoop-2.6.0\n"
     ]
    }
   ],
   "source": [
    "%env SQOOP_VERSION     1.4.7\n",
    "%env SQOOP_HOME sqoop-1.4.7.bin__hadoop-2.6.0"
   ]
  },
  {
   "cell_type": "markdown",
   "metadata": {},
   "source": [
    "# Preparing the Enviroment"
   ]
  },
  {
   "cell_type": "markdown",
   "metadata": {},
   "source": [
    "## Downloading Hive"
   ]
  },
  {
   "cell_type": "code",
   "execution_count": 3,
   "metadata": {},
   "outputs": [
    {
     "name": "stdout",
     "output_type": "stream",
     "text": [
      "sqoop-1.4.7.bin__ha 100%[===================>]  17.12M  13.9MB/s    in 1.2s    \n"
     ]
    }
   ],
   "source": [
    "!wget https://www-us.apache.org/dist/sqoop/${SQOOP_VERSION}/${SQOOP_HOME}.tar.gz -q --show-progress"
   ]
  },
  {
   "cell_type": "markdown",
   "metadata": {},
   "source": [
    "## Extracting compressed files and removing .tar"
   ]
  },
  {
   "cell_type": "code",
   "execution_count": 4,
   "metadata": {},
   "outputs": [],
   "source": [
    "!tar -xvf ${SQOOP_HOME}.tar.gz > /dev/null \n",
    "!rm       ${SQOOP_HOME}.tar.gz"
   ]
  },
  {
   "cell_type": "markdown",
   "metadata": {},
   "source": [
    "## Java Home envvar"
   ]
  },
  {
   "cell_type": "code",
   "execution_count": 5,
   "metadata": {},
   "outputs": [
    {
     "name": "stdout",
     "output_type": "stream",
     "text": [
      "env: JAVA_HOME=/usr/lib/jvm/java-8-openjdk-amd64\n"
     ]
    }
   ],
   "source": [
    "%env JAVA_HOME /usr/lib/jvm/java-8-openjdk-amd64\n",
    "# !echo \"export JAVA_HOME=/usr/lib/jvm/java-8-openjdk-amd64 \" >> ~/.bashrc\n",
    "# !echo \"export JAVA_HOME=/usr/lib/jvm/java-8-openjdk-amd64 \" >> ~/.profile"
   ]
  },
  {
   "cell_type": "markdown",
   "metadata": {},
   "source": [
    "## Setting the Sqoop path envvar"
   ]
  },
  {
   "cell_type": "code",
   "execution_count": 6,
   "metadata": {},
   "outputs": [],
   "source": [
    "!echo \"export SQOOP_HOME=$(pwd)/$SQOOP_HOME\" >> ~/.bashrc\n",
    "!echo \"export SQOOP_HOME=$(pwd)/$SQOOP_HOME\" >> ~/.profile"
   ]
  },
  {
   "cell_type": "markdown",
   "metadata": {},
   "source": [
    "## Configuring sqoop-env.sh"
   ]
  },
  {
   "cell_type": "code",
   "execution_count": 8,
   "metadata": {},
   "outputs": [],
   "source": [
    "!cp $(pwd)/${SQOOP_HOME}/conf/sqoop-env-template.sh $(pwd)/${SQOOP_HOME}/conf/sqoop-env.sh\n",
    "#!echo \"export JAVA_HOME=/usr/lib/jvm/java-8-openjdk-amd64\" >> $(pwd)/${HIVE_HOME}/bin/sqoop-env.sh\n",
    "!echo \"export HADOOP_COMMON_HOME=$(pwd)/$HADOOP_HOME\"             >> $(pwd)/${SQOOP_HOME}/conf/sqoop-env.sh\n",
    "!echo \"export HADOOP_MAPRED_HOME=$(pwd)/$HADOOP_HOME\"             >> $(pwd)/${SQOOP_HOME}/conf/sqoop-env.sh\n",
    "!echo \"export HIVE_HOME=$(pwd)/$HIVE_HOME\"                 >> $(pwd)/${SQOOP_HOME}/conf/sqoop-env.sh"
   ]
  },
  {
   "cell_type": "markdown",
   "metadata": {},
   "source": [
    "# Running Sqoop scripts"
   ]
  },
  {
   "cell_type": "code",
   "execution_count": 12,
   "metadata": {},
   "outputs": [
    {
     "name": "stdout",
     "output_type": "stream",
     "text": [
      "Warning: sqoop-1.4.7.bin__hadoop-2.6.0/../hbase does not exist! HBase imports will fail.\n",
      "Please set $HBASE_HOME to the root of your HBase installation.\n",
      "Warning: sqoop-1.4.7.bin__hadoop-2.6.0/../hcatalog does not exist! HCatalog jobs will fail.\n",
      "Please set $HCAT_HOME to the root of your HCatalog installation.\n",
      "Warning: sqoop-1.4.7.bin__hadoop-2.6.0/../accumulo does not exist! Accumulo imports will fail.\n",
      "Please set $ACCUMULO_HOME to the root of your Accumulo installation.\n",
      "Warning: sqoop-1.4.7.bin__hadoop-2.6.0/../zookeeper does not exist! Accumulo imports will fail.\n",
      "Please set $ZOOKEEPER_HOME to the root of your Zookeeper installation.\n",
      "19/07/19 00:25:50 INFO sqoop.Sqoop: Running Sqoop version: 1.4.7\n",
      "Sqoop 1.4.7\n",
      "git commit id 2328971411f57f0cb683dfb79d19d4d19d185dd8\n",
      "Compiled by maugli on Thu Dec 21 15:59:58 STD 2017\n"
     ]
    }
   ],
   "source": [
    "!$SQOOP_HOME/bin/sqoop-version"
   ]
  },
  {
   "cell_type": "code",
   "execution_count": 13,
   "metadata": {},
   "outputs": [
    {
     "name": "stdout",
     "output_type": "stream",
     "text": [
      "Warning: sqoop-1.4.7.bin__hadoop-2.6.0/../hbase does not exist! HBase imports will fail.\n",
      "Please set $HBASE_HOME to the root of your HBase installation.\n",
      "Warning: sqoop-1.4.7.bin__hadoop-2.6.0/../hcatalog does not exist! HCatalog jobs will fail.\n",
      "Please set $HCAT_HOME to the root of your HCatalog installation.\n",
      "Warning: sqoop-1.4.7.bin__hadoop-2.6.0/../accumulo does not exist! Accumulo imports will fail.\n",
      "Please set $ACCUMULO_HOME to the root of your Accumulo installation.\n",
      "Warning: sqoop-1.4.7.bin__hadoop-2.6.0/../zookeeper does not exist! Accumulo imports will fail.\n",
      "Please set $ZOOKEEPER_HOME to the root of your Zookeeper installation.\n",
      "19/07/19 00:25:56 INFO sqoop.Sqoop: Running Sqoop version: 1.4.7\n",
      "usage: sqoop COMMAND [ARGS]\n",
      "\n",
      "Available commands:\n",
      "  codegen            Generate code to interact with database records\n",
      "  create-hive-table  Import a table definition into Hive\n",
      "  eval               Evaluate a SQL statement and display the results\n",
      "  export             Export an HDFS directory to a database table\n",
      "  help               List available commands\n",
      "  import             Import a table from a database to HDFS\n",
      "  import-all-tables  Import tables from a database to HDFS\n",
      "  import-mainframe   Import datasets from a mainframe server to HDFS\n",
      "  job                Work with saved jobs\n",
      "  list-databases     List available databases on a server\n",
      "  list-tables        List available tables in a database\n",
      "  merge              Merge results of incremental imports\n",
      "  metastore          Run a standalone Sqoop metastore\n",
      "  version            Display version information\n",
      "\n",
      "See 'sqoop help COMMAND' for information on a specific command.\n"
     ]
    }
   ],
   "source": [
    "!$SQOOP_HOME/bin/sqoop-help"
   ]
  },
  {
   "cell_type": "code",
   "execution_count": null,
   "metadata": {},
   "outputs": [],
   "source": []
  }
 ],
 "metadata": {
  "kernelspec": {
   "display_name": "Python 3",
   "language": "python",
   "name": "python3"
  },
  "language_info": {
   "codemirror_mode": {
    "name": "ipython",
    "version": 3
   },
   "file_extension": ".py",
   "mimetype": "text/x-python",
   "name": "python",
   "nbconvert_exporter": "python",
   "pygments_lexer": "ipython3",
   "version": "3.7.3"
  },
  "toc-autonumbering": true,
  "toc-showtags": false
 },
 "nbformat": 4,
 "nbformat_minor": 4
}
